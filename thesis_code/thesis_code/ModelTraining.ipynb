{
 "cells": [
  {
   "cell_type": "markdown",
   "metadata": {},
   "source": [
    "# Model training"
   ]
  },
  {
   "cell_type": "markdown",
   "metadata": {},
   "source": [
    "This notebook contains the code for the computational simulations for the true form-to-meaning mapping and the random form-to-meaning mapping."
   ]
  },
  {
   "cell_type": "markdown",
   "metadata": {},
   "source": [
    "## Preliminaries"
   ]
  },
  {
   "cell_type": "markdown",
   "metadata": {},
   "source": [
    "Load the libraries required for running the simulations."
   ]
  },
  {
   "cell_type": "code",
   "execution_count": 1,
   "metadata": {},
   "outputs": [],
   "source": [
    "# Load libraries\n",
    "suppressMessages(library(ndl))"
   ]
  },
  {
   "cell_type": "markdown",
   "metadata": {},
   "source": [
    "Read in the data from the British Lexicon Project and the Calgary Semantic Decision Project."
   ]
  },
  {
   "cell_type": "code",
   "execution_count": 2,
   "metadata": {},
   "outputs": [],
   "source": [
    "# Read data\n",
    "blp = readRDS(\"data/blp.rds\")\n",
    "csdp = readRDS(\"data/csdp.rds\")"
   ]
  },
  {
   "cell_type": "markdown",
   "metadata": {},
   "source": [
    "## True form-to-meaning mapping"
   ]
  },
  {
   "cell_type": "markdown",
   "metadata": {},
   "source": [
    "Simulation for the true form-to-meaning mapping. We read in the data from the BLP, fit a discrimination learning model, and calculate simulated response times."
   ]
  },
  {
   "cell_type": "code",
   "execution_count": 3,
   "metadata": {},
   "outputs": [],
   "source": [
    "# Define cues\n",
    "blp$Cues = orthoCoding(blp$Word)\n",
    "\n",
    "# Define outcomes\n",
    "blp$Outcomes = blp$Word\n",
    "\n",
    "# Calculate associations between cues and outcomes\n",
    "w = estimateWeights(blp)\n",
    "\n",
    "# Define function to get activations of lexical representations\n",
    "getActivation.fnc = function(num, data, weights) {\n",
    "  cues = as.character(unlist(strsplit(data$Cues[num], \"_\")))\n",
    "  acts = sum(weights[cues, data$Word[num]])\n",
    "  return(acts)\n",
    "}\n",
    "\n",
    "# Get activations of lexical activations\n",
    "blp$Activation = as.numeric(sapply(1:nrow(blp), getActivation.fnc, data = blp, \n",
    "  weights = w))\n",
    "\n",
    "# Calculate simulated response times\n",
    "blp$SimRT = log(1 / (blp$Activation + 0.00001))\n",
    "\n",
    "# Restrict to relevant columns\n",
    "blp = blp[,c(\"Word\", \"RT\", \"RTInv\", \"SimRT\", \"Frequency\", \"LogFrequency\",\n",
    "  \"Length\", \"LogOLD20Norm\", \"LogMeanBigramFrequency\")]\n",
    "\n",
    "# Save the data\n",
    "saveRDS(blp, file = \"data/blp_simulation.rds\")\n",
    "\n",
    "# Save version of CSDP data with simulated response times\n",
    "csdp = merge(csdp, blp[,c(\"Word\", \"SimRT\")], by = \"Word\")\n",
    "rownames(csdp) = 1:nrow(csdp)\n",
    "saveRDS(csdp, file = \"data/csdp_simulation.rds\")"
   ]
  },
  {
   "cell_type": "markdown",
   "metadata": {},
   "source": [
    "## Random form-to-meaning mapping"
   ]
  },
  {
   "cell_type": "markdown",
   "metadata": {},
   "source": [
    "Simulation for the randomized form-to-meaning mapping. We randomize the mapping, fit a discrimination learning model, and calculate simulated response times."
   ]
  },
  {
   "cell_type": "code",
   "execution_count": 4,
   "metadata": {},
   "outputs": [],
   "source": [
    "# Create data frame for random mapping\n",
    "blp_random = readRDS(\"data/blp.rds\")\n",
    "\n",
    "# Set seed for reproducibility\n",
    "set.seed(13)\n",
    "\n",
    "# Define order of re-assignment of forms\n",
    "order = sample(1:nrow(blp_random))\n",
    "\n",
    "# Re-define length\n",
    "blp_random$Length = blp$Length[order]\n",
    "\n",
    "# Re-define OLD20\n",
    "blp_random$LogOLD20Norm = blp$LogOLD20Norm[order]\n",
    "\n",
    "# Re-define mean bigram frequency\n",
    "bigram_random_list = strsplit(orthoCoding(blp_random$Word[order]), \"_\")\n",
    "bigrams = unique(unlist(bigram_random_list))\n",
    "bigram_random_freqs = sapply(bigrams, FUN = function(x) {\n",
    "  sum(blp_random$Frequency[which(unlist(lapply(bigram_random_list, \n",
    "  function(y){x%in%y})))])  \n",
    "})\n",
    "blp_random$MeanBigramFrequency = unlist(lapply(bigram_random_list,\n",
    "  function(x){sum(bigram_random_freqs[x])/length(x)}))\n",
    "blp_random$LogMeanBigramFrequency = log(blp_random$MeanBigramFrequency)\n",
    "blp_random = blp_random[,-which(colnames(blp_random)==\"MeanBigramFrequency\")]\n",
    "\n",
    "# Define cues\n",
    "blp_random$Cues = orthoCoding(blp_random$Word[order])\n",
    "\n",
    "# Define outcomes\n",
    "blp_random$Outcomes = blp_random$Word\n",
    "\n",
    "# Calculate associations between cues and outcomes\n",
    "w_random = estimateWeights(blp_random)\n",
    "\n",
    "# Get activations of lexical activations\n",
    "blp_random$Activation = as.numeric(sapply(1:nrow(blp_random), getActivation.fnc, \n",
    "  data = blp_random, weights = w_random))\n",
    "\n",
    "# Calculate simulated response times\n",
    "blp_random$SimRT = log(1 / (blp_random$Activation + 0.00001))\n",
    "\n",
    "# Restrict to relevant columns\n",
    "blp_random = blp_random[,c(\"Word\", \"RT\", \"RTInv\", \"SimRT\", \"Frequency\", \n",
    "  \"LogFrequency\", \"Length\", \"LogOLD20Norm\", \"LogMeanBigramFrequency\")]\n",
    "\n",
    "# Save the data\n",
    "saveRDS(blp_random, file = \"data/blp_simulation_random.rds\")\n",
    "\n",
    "# Create random mapping file for CSDP data\n",
    "update = c(\"SimRT\", \"Length\", \"LogOLD20Norm\", \"LogMeanBigramFrequency\")\n",
    "csdp = csdp[,-which(colnames(csdp)%in%update)]\n",
    "csdp = merge(csdp, blp_random[,c(\"Word\", update)], by = \"Word\")\n",
    "rownames(csdp) = 1:nrow(csdp)\n",
    "saveRDS(csdp, file = \"data/csdp_simulation_random.rds\")"
   ]
  }
 ],
 "metadata": {
  "kernelspec": {
   "display_name": "R",
   "language": "R",
   "name": "ir"
  },
  "language_info": {
   "codemirror_mode": "r",
   "file_extension": ".r",
   "mimetype": "text/x-r-source",
   "name": "R",
   "pygments_lexer": "r",
   "version": "4.2.2"
  }
 },
 "nbformat": 4,
 "nbformat_minor": 4
}
